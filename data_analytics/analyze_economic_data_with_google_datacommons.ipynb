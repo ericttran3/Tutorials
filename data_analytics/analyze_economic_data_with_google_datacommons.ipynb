{
  "nbformat": 4,
  "nbformat_minor": 0,
  "metadata": {
    "colab": {
      "provenance": [],
      "authorship_tag": "ABX9TyOP2Nn5lcEoX98aut9uqkns",
      "include_colab_link": true
    },
    "kernelspec": {
      "name": "python3",
      "display_name": "Python 3"
    },
    "language_info": {
      "name": "python"
    }
  },
  "cells": [
    {
      "cell_type": "markdown",
      "metadata": {
        "id": "view-in-github",
        "colab_type": "text"
      },
      "source": [
        "<a href=\"https://colab.research.google.com/github/ericttran3/Tutorials/blob/master/data_analytics/analyze_economic_data_with_google_datacommons.ipynb\" target=\"_parent\"><img src=\"https://colab.research.google.com/assets/colab-badge.svg\" alt=\"Open In Colab\"/></a>"
      ]
    },
    {
      "cell_type": "markdown",
      "source": [
        "# Analyze Economic Data w/ Datacommons"
      ],
      "metadata": {
        "id": "65-ReKWL3hnM"
      }
    },
    {
      "cell_type": "code",
      "execution_count": null,
      "metadata": {
        "id": "srUBylTpOq9F"
      },
      "outputs": [],
      "source": [
        "# Install datacommons_pandas\n",
        "!pip install datacommons_pandas --upgrade --quiet\n",
        "# Import Data Commons\n",
        "import datacommons_pandas as dc\n",
        "\n",
        "# Import other required libraries\n",
        "import matplotlib.pyplot as plt\n",
        "import matplotlib.patches as mpatches\n",
        "import pandas as pd\n",
        "\n",
        "import json"
      ]
    },
    {
      "cell_type": "code",
      "source": [],
      "metadata": {
        "id": "_MBLpO0-OuU5"
      },
      "execution_count": null,
      "outputs": []
    }
  ]
}